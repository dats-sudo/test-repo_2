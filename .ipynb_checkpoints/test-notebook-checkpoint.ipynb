{
 "cells": [
  {
   "cell_type": "code",
   "execution_count": null,
   "id": "c4112003-6965-4819-92e1-f71b7fb63230",
   "metadata": {},
   "outputs": [],
   "source": [
    "das ist ein weiterer Test "
   ]
  },
  {
   "cell_type": "code",
   "execution_count": null,
   "id": "79a34519-6673-48f9-a64b-b747849752d5",
   "metadata": {},
   "outputs": [],
   "source": [
    "data.frame"
   ]
  },
  {
   "cell_type": "code",
   "execution_count": null,
   "id": "a0df76cb-adc2-4120-a1fe-0813bd2c7d9e",
   "metadata": {},
   "outputs": [],
   "source": [
    "ein test von sandra"
   ]
  }
 ],
 "metadata": {
  "kernelspec": {
   "display_name": "R",
   "language": "R",
   "name": "ir"
  },
  "language_info": {
   "codemirror_mode": "r",
   "file_extension": ".r",
   "mimetype": "text/x-r-source",
   "name": "R",
   "pygments_lexer": "r",
   "version": "3.5.1"
  }
 },
 "nbformat": 4,
 "nbformat_minor": 5
}
