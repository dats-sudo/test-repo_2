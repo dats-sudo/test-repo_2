{
 "cells": [
  {
   "cell_type": "code",
   "execution_count": null,
   "id": "c4112003-6965-4819-92e1-f71b7fb63230",
   "metadata": {},
   "outputs": [],
   "source": [
    "das ist ein weiterer Test "
   ]
  },
  {
   "cell_type": "code",
   "execution_count": null,
   "id": "79a34519-6673-48f9-a64b-b747849752d5",
   "metadata": {},
   "outputs": [],
   "source": [
    "data.frame"
   ]
  }
 ],
 "metadata": {
  "kernelspec": {
   "display_name": "R",
   "language": "R",
   "name": "ir"
  },
  "language_info": {
   "codemirror_mode": "r",
   "file_extension": ".r",
   "mimetype": "text/x-r-source",
   "name": "R",
   "pygments_lexer": "r",
   "version": "4.5.1"
  }
 },
 "nbformat": 4,
 "nbformat_minor": 5
}
